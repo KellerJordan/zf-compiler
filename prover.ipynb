{
 "cells": [
  {
   "cell_type": "code",
   "execution_count": 31,
   "metadata": {},
   "outputs": [],
   "source": [
    "import string\n",
    "import matplotlib.pyplot as plt"
   ]
  },
  {
   "cell_type": "code",
   "execution_count": 744,
   "metadata": {},
   "outputs": [],
   "source": [
    "TOKENS = [\n",
    "    ('LPAREN', '('),\n",
    "    ('RPAREN', ')'),\n",
    "    ('UNION', r'\\cup'),\n",
    "    ('INTERSECTION', r'\\cap'),\n",
    "    ('LOGIC_AND', r'\\wedge'),\n",
    "    ('LOGIC_OR', r'\\vee'),\n",
    "    ('LOGIC_NOT', r'\\not'),\n",
    "    ('LOGIC_IMPLIES', r'\\implies'),\n",
    "    ('CONTAINS', r'\\in'),\n",
    "    ('EXISTS', r'\\exists'),\n",
    "    ('FORALL', r'\\forall'),\n",
    "    ('SUBSET', '\\subset'),\n",
    "    ###################\n",
    "    ('FORALL', '∀'),\n",
    "    ('EXISTS', '∃'),\n",
    "]\n",
    "\n",
    "def tokenize(formula):\n",
    "    formula = '(%s)' % formula\n",
    "    def helper():\n",
    "        i = 0\n",
    "        while i < len(formula):\n",
    "            if formula[i] == ' ':\n",
    "                i += 1\n",
    "                continue\n",
    "            for t, v in TOKENS:\n",
    "                if formula[i:i+len(v)] == v:\n",
    "                    yield (t, None)\n",
    "                    i += len(v)\n",
    "                    break\n",
    "            else:\n",
    "                assert formula[i] in string.ascii_lowercase, (i, formula[i])\n",
    "                yield ('VARIABLE', formula[i])\n",
    "                i += 1\n",
    "    return list(helper())"
   ]
  },
  {
   "cell_type": "code",
   "execution_count": 746,
   "metadata": {},
   "outputs": [],
   "source": [
    "BINOPS = ['LOGIC_OR', 'LOGIC_AND', 'LOGIC_IMPLIES', 'CONTAINS', 'SUBSET']\n",
    "QUANTS = ['FORALL', 'EXISTS']\n",
    "PRINT_SYMS = {\n",
    "    'LOGIC_OR': '∨',\n",
    "    'LOGIC_AND': '∧',\n",
    "    'LOGIC_IMPLIES': '⇒',\n",
    "    'FORALL': '∀',\n",
    "    'EXISTS': '∃',\n",
    "    'CONTAINS': '∈',\n",
    "    'SUBSET': '⊂',\n",
    "    'LOGIC_NOT': '¬',\n",
    "}\n",
    "\n",
    "class ASTNode:\n",
    "    def __init__(self, node_type, node_value):\n",
    "        self.t = node_type\n",
    "        self.v = node_value\n",
    "\n",
    "    def add_child(self, node):\n",
    "        self.v.append(node)\n",
    "    \n",
    "    def __repr__(self):\n",
    "        if isinstance(self.v, list):\n",
    "            if self.t in BINOPS:\n",
    "                return '(%s %s %s)' % (self.v[0], PRINT_SYMS[self.t], self.v[1])\n",
    "            if self.t in QUANTS:\n",
    "                return '%s%s%s' % (PRINT_SYMS[self.t], self.v[0], self.v[1])\n",
    "            if self.t == 'LOGIC_NOT':\n",
    "                return '%s%s' % (PRINT_SYMS[''])\n",
    "            return '%s(%s)' % (self.t, ' '.join(str(c) for c in self.v))\n",
    "        else:\n",
    "            return self.t if self.t != 'VARIABLE' else self.v\n",
    "\n",
    "def parse(tokens):\n",
    "    def parse_expression(index):\n",
    "        if tokens[index][0] == 'LPAREN':\n",
    "            index += 1\n",
    "            node = ASTNode('GROUP', [])\n",
    "            while tokens[index][0] != 'RPAREN':\n",
    "                child_node, index = parse_expression(index)\n",
    "                node.add_child(child_node)\n",
    "            return node, index + 1  # Skip RPAREN\n",
    "        else:\n",
    "            return ASTNode(*tokens[index]), index+1\n",
    "\n",
    "    ast_root, _ = parse_expression(0)\n",
    "    return ast_root"
   ]
  },
  {
   "cell_type": "code",
   "execution_count": 788,
   "metadata": {},
   "outputs": [],
   "source": [
    "def transform_noop(node):\n",
    "    if not isinstance(node.v, list):\n",
    "        return node\n",
    "    children = node.v = [transform_noop(n) for n in node.v]\n",
    "    return node\n",
    "\n",
    "def eliminate_unary_groups(node):\n",
    "    if not isinstance(node.v, list):\n",
    "        return node\n",
    "    children = node.v = [eliminate_unary_groups(n) for n in node.v]\n",
    "    if node.t == 'GROUP':\n",
    "        if children[0].t == 'GROUP' and len(children) == 1:\n",
    "            node.t = children[0].t\n",
    "            node.v = children[0].v\n",
    "    return node\n",
    "    \n",
    "def extract_quantifiers(node):\n",
    "    if not isinstance(node.v, list):\n",
    "        return node\n",
    "    children = node.v = [extract_quantifiers(n) for n in node.v]\n",
    "    if node.t == 'GROUP':\n",
    "        if children[0].t in ['FORALL', 'EXISTS'] and not children[0].v:\n",
    "            assert children[1].t == 'VARIABLE', children\n",
    "            assert len(children) == 3\n",
    "            node.t = children[0].t\n",
    "            node.v = [children[1], children[2]]\n",
    "    return node\n",
    "\n",
    "def extract_binops(node):\n",
    "    def helper(node):\n",
    "        if not isinstance(node.v, list):\n",
    "            return node\n",
    "        children = node.v = [helper(n) for n in node.v]\n",
    "        if node.t == 'GROUP':\n",
    "            if children[1].t in BINOPS and not children[1].v:\n",
    "                assert len(children) == 3\n",
    "                node.t = children[1].t\n",
    "                node.v = [children[0], children[2]]\n",
    "        return node\n",
    "    return helper(node)\n",
    "\n",
    "def extract_not(node):\n",
    "    def helper(node):\n",
    "        if not isinstance(node.v, list):\n",
    "            return node\n",
    "        children = node.v = [helper(n) for n in node.v]\n",
    "        if node.t == 'GROUP':\n",
    "            if children[0].t == 'LOGIC_NOT' and not children[0].v:\n",
    "                assert len(children) == 2, children\n",
    "                node.t = children[0].t\n",
    "                node.v = [children[1]]\n",
    "        return node\n",
    "    return helper(node)"
   ]
  },
  {
   "cell_type": "code",
   "execution_count": 789,
   "metadata": {},
   "outputs": [],
   "source": [
    "def tag_logic(node):\n",
    "    def helper(node):\n",
    "        if not isinstance(node.v, list):\n",
    "            assert node.t == 'VARIABLE', node\n",
    "            node.is_logic = False\n",
    "            return node\n",
    "        for n in node.v:\n",
    "            helper(n)\n",
    "        if node.t in ['LOGIC_NOT', 'LOGIC_AND', 'LOGIC_OR', 'LOGIC_IMPLIES']:\n",
    "            assert all(n.is_logic for n in node.v)\n",
    "            node.is_logic = True\n",
    "        elif node.t in ['EXISTS', 'FORALL']:\n",
    "            assert node.v[1].is_logic # we already know v[0] is VARIABLE\n",
    "            node.is_logic = True\n",
    "        elif node.t == 'VARIABLE':\n",
    "            node.is_logic = False\n",
    "        elif node.t in ['CONTAINS', 'SUBSET']:\n",
    "            assert all(n.t == 'VARIABLE' for n in node.v)\n",
    "            node.is_logic = True\n",
    "        else:\n",
    "            assert False\n",
    "            \n",
    "    return helper(node)"
   ]
  },
  {
   "cell_type": "code",
   "execution_count": 790,
   "metadata": {},
   "outputs": [],
   "source": [
    "def process(tree):\n",
    "    tree = eliminate_unary_groups(tree)\n",
    "    tree = extract_quantifiers(tree)\n",
    "    tree = extract_binops(tree)\n",
    "    tree = extract_not(tree)\n",
    "#     tree = extract_contains(tree)\n",
    "#     tag_logic(tree)\n",
    "    return tree"
   ]
  },
  {
   "cell_type": "code",
   "execution_count": 791,
   "metadata": {},
   "outputs": [
    {
     "data": {
      "text/plain": [
       "∀x(∀yLOGIC_NOT((y ∈ x)) ⇒ ∀y(x ⊂ y))"
      ]
     },
     "execution_count": 791,
     "metadata": {},
     "output_type": "execute_result"
    }
   ],
   "source": [
    "# formula = r'\\exists x (\\forall y (\\not (y \\in x)))' # exists varnothing\n",
    "\n",
    "# formula = r'\\exists x (\\forall y ((y \\in x) \\implies (\\forall a ((y \\in a) \\implies (a \\in x)))))'\n",
    "\n",
    "# formula = r'((b \\in y) \\vee (a \\in z))'\n",
    "\n",
    "formula = r'\\forall x ((\\forall y (\\not (y \\in x))) \\implies (\\forall y (x \\subset y)))'\n",
    "\n",
    "tokens = tokenize(formula)\n",
    "tree = parse(tokens)\n",
    "tree = process(tree)\n",
    "tree"
   ]
  },
  {
   "cell_type": "code",
   "execution_count": null,
   "metadata": {},
   "outputs": [],
   "source": []
  },
  {
   "cell_type": "code",
   "execution_count": null,
   "metadata": {},
   "outputs": [],
   "source": []
  },
  {
   "cell_type": "code",
   "execution_count": null,
   "metadata": {},
   "outputs": [],
   "source": []
  },
  {
   "cell_type": "code",
   "execution_count": null,
   "metadata": {},
   "outputs": [],
   "source": []
  },
  {
   "cell_type": "code",
   "execution_count": 561,
   "metadata": {},
   "outputs": [],
   "source": [
    "# formula = r'x \\cup y'\n",
    "# formula = r'x \\cup (y \\cap (z \\cup a))'\n",
    "# formula = r'\\not ((\\not a) \\vee b)'\n",
    "# formula = r'\\not (x \\in y)'\n",
    "formula = r'\\exists x (\\forall y (\\not (y \\in x)))'\n",
    "# formula = '(%s)' % formula\n",
    "\n",
    "tokens = tokenize(formula)\n",
    "tree = parse(tokens)\n",
    "tree = process(tree)"
   ]
  },
  {
   "cell_type": "code",
   "execution_count": null,
   "metadata": {},
   "outputs": [],
   "source": []
  },
  {
   "cell_type": "code",
   "execution_count": null,
   "metadata": {},
   "outputs": [],
   "source": []
  },
  {
   "cell_type": "code",
   "execution_count": null,
   "metadata": {},
   "outputs": [],
   "source": []
  },
  {
   "cell_type": "code",
   "execution_count": 439,
   "metadata": {},
   "outputs": [
    {
     "data": {
      "text/plain": [
       "GROUP(LOGIC_NOT GROUP(VARIABLE CONTAINS VARIABLE))"
      ]
     },
     "execution_count": 439,
     "metadata": {},
     "output_type": "execute_result"
    }
   ],
   "source": [
    "tree.v[0]"
   ]
  },
  {
   "cell_type": "code",
   "execution_count": null,
   "metadata": {},
   "outputs": [],
   "source": []
  },
  {
   "cell_type": "code",
   "execution_count": 427,
   "metadata": {},
   "outputs": [
    {
     "name": "stdout",
     "output_type": "stream",
     "text": [
      "GROUP(LOGIC_NOT GROUP(VARIABLE CONTAINS VARIABLE))\n",
      "GROUP(VARIABLE CONTAINS VARIABLE)\n"
     ]
    },
    {
     "data": {
      "text/plain": [
       "LOGIC_NOT(GROUP(VARIABLE CONTAINS VARIABLE))"
      ]
     },
     "execution_count": 427,
     "metadata": {},
     "output_type": "execute_result"
    }
   ],
   "source": [
    "extract_logic(tree.v[1].v[1])"
   ]
  },
  {
   "cell_type": "code",
   "execution_count": 426,
   "metadata": {},
   "outputs": [
    {
     "data": {
      "text/plain": [
       "GROUP(LOGIC_NOT GROUP(VARIABLE CONTAINS VARIABLE))"
      ]
     },
     "execution_count": 426,
     "metadata": {},
     "output_type": "execute_result"
    }
   ],
   "source": [
    "tree.v[1].v[1]"
   ]
  },
  {
   "cell_type": "code",
   "execution_count": null,
   "metadata": {},
   "outputs": [],
   "source": []
  },
  {
   "cell_type": "code",
   "execution_count": null,
   "metadata": {},
   "outputs": [],
   "source": []
  }
 ],
 "metadata": {
  "kernelspec": {
   "display_name": "Python 3 (ipykernel)",
   "language": "python",
   "name": "python3"
  },
  "language_info": {
   "codemirror_mode": {
    "name": "ipython",
    "version": 3
   },
   "file_extension": ".py",
   "mimetype": "text/x-python",
   "name": "python",
   "nbconvert_exporter": "python",
   "pygments_lexer": "ipython3",
   "version": "3.8.10"
  }
 },
 "nbformat": 4,
 "nbformat_minor": 4
}

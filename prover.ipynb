{
 "cells": [
  {
   "cell_type": "code",
   "execution_count": 1,
   "metadata": {},
   "outputs": [],
   "source": [
    "import string\n",
    "import matplotlib.pyplot as plt"
   ]
  },
  {
   "cell_type": "code",
   "execution_count": 2,
   "metadata": {},
   "outputs": [],
   "source": [
    "TOKENS = [\n",
    "    ('LPAREN', '('),\n",
    "    ('RPAREN', ')'),\n",
    "    ('UNION', r'\\cup'),\n",
    "    ('INTERSECTION', r'\\cap'),\n",
    "    ('AND', r'\\wedge'),\n",
    "    ('OR', r'\\vee'),\n",
    "    ('NOT', r'\\not'),\n",
    "    ('IMPLIES', r'\\implies'),\n",
    "    ('CONTAINS', r'\\in'),\n",
    "    ('EXISTS', r'\\exists'),\n",
    "    ('FORALL', r'\\forall'),\n",
    "    ('SUBSET', '\\subset'),\n",
    "    ###################\n",
    "    ('FORALL', '∀'),\n",
    "    ('EXISTS', '∃'),\n",
    "]\n",
    "\n",
    "def tokenize(formula):\n",
    "    formula = '(%s)' % formula\n",
    "    def helper():\n",
    "        i = 0\n",
    "        while i < len(formula):\n",
    "            if formula[i] == ' ':\n",
    "                i += 1\n",
    "                continue\n",
    "            for t, v in TOKENS:\n",
    "                if formula[i:i+len(v)] == v:\n",
    "                    yield (t, None)\n",
    "                    i += len(v)\n",
    "                    break\n",
    "            else:\n",
    "                assert formula[i] in string.ascii_lowercase, (i, formula[i])\n",
    "                yield ('VARIABLE', formula[i])\n",
    "                i += 1\n",
    "    return list(helper())"
   ]
  },
  {
   "cell_type": "code",
   "execution_count": 3,
   "metadata": {},
   "outputs": [],
   "source": [
    "BINOPS = ['OR', 'AND', 'IMPLIES', 'CONTAINS', 'SUBSET']\n",
    "QUANTS = ['FORALL', 'EXISTS']\n",
    "PRINT_SYMS = {\n",
    "    'OR': '∨',\n",
    "    'AND': '∧',\n",
    "    'IMPLIES': '⇒',\n",
    "    'FORALL': '∀',\n",
    "    'EXISTS': '∃',\n",
    "    'CONTAINS': '∈',\n",
    "    'SUBSET': '⊂',\n",
    "    'NOT': '¬',\n",
    "}\n",
    "\n",
    "class ASTNode:\n",
    "    def __init__(self, node_type, node_value):\n",
    "        self.t = node_type\n",
    "        self.v = node_value\n",
    "\n",
    "    def add_child(self, node):\n",
    "        self.v.append(node)\n",
    "    \n",
    "    def __repr__(self):\n",
    "        if isinstance(self.v, list):\n",
    "            if self.t in BINOPS:\n",
    "                return '(%s %s %s)' % (self.v[0], PRINT_SYMS[self.t], self.v[1])\n",
    "            if self.t in QUANTS:\n",
    "                return '%s%s%s' % (PRINT_SYMS[self.t], self.v[0], self.v[1])\n",
    "            if self.t == 'NOT':\n",
    "                return '%s%s' % (PRINT_SYMS[self.t], self.v[0])\n",
    "            else:\n",
    "                assert False, self.t\n",
    "        else:\n",
    "            return str(self.v if self.t == 'VARIABLE' else self.t)\n",
    "\n",
    "def parse(tokens):\n",
    "    def parse_expression(index):\n",
    "        if tokens[index][0] == 'LPAREN':\n",
    "            index += 1\n",
    "            node = ASTNode('GROUP', [])\n",
    "            while tokens[index][0] != 'RPAREN':\n",
    "                child_node, index = parse_expression(index)\n",
    "                node.add_child(child_node)\n",
    "            return node, index + 1  # Skip RPAREN\n",
    "        else:\n",
    "            return ASTNode(*tokens[index]), index+1\n",
    "\n",
    "    ast_root, _ = parse_expression(0)\n",
    "    return ast_root"
   ]
  },
  {
   "cell_type": "code",
   "execution_count": 4,
   "metadata": {},
   "outputs": [],
   "source": [
    "def transform_noop(node):\n",
    "    if not isinstance(node.v, list):\n",
    "        return node\n",
    "    children = node.v = [transform_noop(n) for n in node.v]\n",
    "    return node\n",
    "\n",
    "def eliminate_unary_groups(node):\n",
    "    if not isinstance(node.v, list):\n",
    "        return node\n",
    "    children = node.v = [eliminate_unary_groups(n) for n in node.v]\n",
    "    if node.t == 'GROUP':\n",
    "        if children[0].t == 'GROUP' and len(children) == 1:\n",
    "            node.t = children[0].t\n",
    "            node.v = children[0].v\n",
    "    return node\n",
    "    \n",
    "def extract_quantifiers(node):\n",
    "    if not isinstance(node.v, list):\n",
    "        return node\n",
    "    children = node.v = [extract_quantifiers(n) for n in node.v]\n",
    "    if node.t == 'GROUP':\n",
    "        if children[0].t in ['FORALL', 'EXISTS'] and not children[0].v:\n",
    "            assert children[1].t == 'VARIABLE', children\n",
    "            assert len(children) == 3\n",
    "            node.t = children[0].t\n",
    "            node.v = [children[1], children[2]]\n",
    "    return node\n",
    "\n",
    "def extract_binops(node):\n",
    "    def helper(node):\n",
    "        if not isinstance(node.v, list):\n",
    "            return node\n",
    "        children = node.v = [helper(n) for n in node.v]\n",
    "        if node.t == 'GROUP':\n",
    "            if children[1].t in BINOPS and not children[1].v:\n",
    "                assert len(children) == 3\n",
    "                node.t = children[1].t\n",
    "                node.v = [children[0], children[2]]\n",
    "        return node\n",
    "    return helper(node)\n",
    "\n",
    "def extract_not(node):\n",
    "    def helper(node):\n",
    "        if not isinstance(node.v, list):\n",
    "            return node\n",
    "        children = node.v = [helper(n) for n in node.v]\n",
    "        if node.t == 'GROUP':\n",
    "            if children[0].t == 'NOT' and not children[0].v:\n",
    "                assert len(children) == 2, children\n",
    "                node.t = children[0].t\n",
    "                node.v = [children[1]]\n",
    "        return node\n",
    "    return helper(node)"
   ]
  },
  {
   "cell_type": "code",
   "execution_count": 5,
   "metadata": {},
   "outputs": [],
   "source": [
    "def tag_logic(node):\n",
    "    def helper(node):\n",
    "        if not isinstance(node.v, list):\n",
    "            assert node.t == 'VARIABLE', node\n",
    "            node.is_logic = False\n",
    "            return node\n",
    "        for n in node.v:\n",
    "            helper(n)\n",
    "        if node.t in ['NOT', 'AND', 'OR', 'IMPLIES']:\n",
    "            assert all(n.is_logic for n in node.v)\n",
    "            node.is_logic = True\n",
    "        elif node.t in ['EXISTS', 'FORALL']:\n",
    "            assert node.v[1].is_logic # we already know v[0] is VARIABLE\n",
    "            node.is_logic = True\n",
    "        elif node.t == 'VARIABLE':\n",
    "            node.is_logic = False\n",
    "        elif node.t in ['CONTAINS', 'SUBSET']:\n",
    "            assert all(n.t == 'VARIABLE' for n in node.v)\n",
    "            node.is_logic = True\n",
    "        else:\n",
    "            assert False\n",
    "            \n",
    "    return helper(node)"
   ]
  },
  {
   "cell_type": "code",
   "execution_count": 6,
   "metadata": {},
   "outputs": [],
   "source": [
    "def process(tree):\n",
    "    tree = eliminate_unary_groups(tree)\n",
    "    tree = extract_quantifiers(tree)\n",
    "    tree = extract_binops(tree)\n",
    "    tree = extract_not(tree)\n",
    "    tag_logic(tree)\n",
    "    return tree"
   ]
  },
  {
   "cell_type": "code",
   "execution_count": 15,
   "metadata": {},
   "outputs": [],
   "source": [
    "def compile_subset(node):\n",
    "    def helper(node):\n",
    "        if not isinstance(node.v, list):\n",
    "            return node\n",
    "        children = node.v = [helper(n) for n in node.v]\n",
    "        if node.t == 'SUBSET':\n",
    "            a, b = children\n",
    "            imp = ASTNode('IMPLIES', [ASTNode('CONTAINS', [ASTNode('VARIABLE', 'z'), a]),\n",
    "                                            ASTNode('CONTAINS', [ASTNode('VARIABLE', 'z'), b])])\n",
    "            node = ASTNode('FORALL', [ASTNode('VARIABLE', 'z'), imp])\n",
    "        return node\n",
    "    return helper(node)\n",
    "\n",
    "def compile_logic(node):\n",
    "    def helper(node):\n",
    "        if not isinstance(node.v, list):\n",
    "            return node\n",
    "        children = node.v = [helper(n) for n in node.v]\n",
    "        if node.t == 'OR':\n",
    "            a, b = children\n",
    "            node = ASTNode('NOT', [ASTNode('AND', [ASTNode('NOT', [a]), ASTNode('NOT', [b])])])\n",
    "        if node.t == 'IMPLIES':\n",
    "            a, b = children\n",
    "            node = ASTNode('NOT', [ASTNode('AND', [a, ASTNode('NOT', [b])])])\n",
    "        return node\n",
    "    return helper(node)\n",
    "\n",
    "\n",
    "def compile_ast(tree):\n",
    "    tree = compile_subset(tree)\n",
    "    tree = compile_logic(tree)\n",
    "    return tree"
   ]
  },
  {
   "cell_type": "code",
   "execution_count": 16,
   "metadata": {},
   "outputs": [
    {
     "name": "stdout",
     "output_type": "stream",
     "text": [
      "∀x(∀y¬(y ∈ x) ⇒ ∀a(x ⊂ a))\n",
      "∀x¬(∀y¬(y ∈ x) ∧ ¬∀a∀z¬((z ∈ x) ∧ ¬(z ∈ a)))\n"
     ]
    }
   ],
   "source": [
    "# formula = r'\\exists x (\\forall y (\\not (y \\in x)))' # exists varnothing\n",
    "\n",
    "# formula = r'\\exists x (\\forall y ((y \\in x) \\implies (\\forall a ((y \\in a) \\implies (a \\in x)))))'\n",
    "\n",
    "# formula = r'((b \\in y) \\vee (a \\in z))'\n",
    "\n",
    "# Theorem: every set contains the empty set\n",
    "formula = r'\\forall x ((\\forall y (\\not (y \\in x))) \\implies (\\forall a (x \\subset a)))'\n",
    "\n",
    "# formula = r'(a \\in b) \\vee (b \\in a)'\n",
    "\n",
    "tokens = tokenize(formula)\n",
    "tree = parse(tokens)\n",
    "tree = process(tree)\n",
    "print(tree)\n",
    "tree = compile_ast(tree)\n",
    "print(tree)"
   ]
  },
  {
   "cell_type": "code",
   "execution_count": null,
   "metadata": {},
   "outputs": [],
   "source": []
  },
  {
   "cell_type": "code",
   "execution_count": 9,
   "metadata": {},
   "outputs": [
    {
     "data": {
      "text/plain": [
       "¬(a ∈ b)"
      ]
     },
     "execution_count": 9,
     "metadata": {},
     "output_type": "execute_result"
    }
   ],
   "source": [
    "tree.v[0].v[0]"
   ]
  },
  {
   "cell_type": "code",
   "execution_count": null,
   "metadata": {},
   "outputs": [],
   "source": []
  },
  {
   "cell_type": "code",
   "execution_count": null,
   "metadata": {},
   "outputs": [],
   "source": []
  },
  {
   "cell_type": "code",
   "execution_count": 831,
   "metadata": {},
   "outputs": [
    {
     "ename": "TypeError",
     "evalue": "__repr__ returned non-string (type NoneType)",
     "output_type": "error",
     "traceback": [
      "\u001b[0;31m---------------------------------------------------------------------------\u001b[0m",
      "\u001b[0;31mTypeError\u001b[0m                                 Traceback (most recent call last)",
      "File \u001b[0;32m~/.local/lib/python3.8/site-packages/IPython/core/formatters.py:708\u001b[0m, in \u001b[0;36mPlainTextFormatter.__call__\u001b[0;34m(self, obj)\u001b[0m\n\u001b[1;32m    701\u001b[0m stream \u001b[38;5;241m=\u001b[39m StringIO()\n\u001b[1;32m    702\u001b[0m printer \u001b[38;5;241m=\u001b[39m pretty\u001b[38;5;241m.\u001b[39mRepresentationPrinter(stream, \u001b[38;5;28mself\u001b[39m\u001b[38;5;241m.\u001b[39mverbose,\n\u001b[1;32m    703\u001b[0m     \u001b[38;5;28mself\u001b[39m\u001b[38;5;241m.\u001b[39mmax_width, \u001b[38;5;28mself\u001b[39m\u001b[38;5;241m.\u001b[39mnewline,\n\u001b[1;32m    704\u001b[0m     max_seq_length\u001b[38;5;241m=\u001b[39m\u001b[38;5;28mself\u001b[39m\u001b[38;5;241m.\u001b[39mmax_seq_length,\n\u001b[1;32m    705\u001b[0m     singleton_pprinters\u001b[38;5;241m=\u001b[39m\u001b[38;5;28mself\u001b[39m\u001b[38;5;241m.\u001b[39msingleton_printers,\n\u001b[1;32m    706\u001b[0m     type_pprinters\u001b[38;5;241m=\u001b[39m\u001b[38;5;28mself\u001b[39m\u001b[38;5;241m.\u001b[39mtype_printers,\n\u001b[1;32m    707\u001b[0m     deferred_pprinters\u001b[38;5;241m=\u001b[39m\u001b[38;5;28mself\u001b[39m\u001b[38;5;241m.\u001b[39mdeferred_printers)\n\u001b[0;32m--> 708\u001b[0m \u001b[43mprinter\u001b[49m\u001b[38;5;241;43m.\u001b[39;49m\u001b[43mpretty\u001b[49m\u001b[43m(\u001b[49m\u001b[43mobj\u001b[49m\u001b[43m)\u001b[49m\n\u001b[1;32m    709\u001b[0m printer\u001b[38;5;241m.\u001b[39mflush()\n\u001b[1;32m    710\u001b[0m \u001b[38;5;28;01mreturn\u001b[39;00m stream\u001b[38;5;241m.\u001b[39mgetvalue()\n",
      "File \u001b[0;32m~/.local/lib/python3.8/site-packages/IPython/lib/pretty.py:410\u001b[0m, in \u001b[0;36mRepresentationPrinter.pretty\u001b[0;34m(self, obj)\u001b[0m\n\u001b[1;32m    407\u001b[0m                         \u001b[38;5;28;01mreturn\u001b[39;00m meth(obj, \u001b[38;5;28mself\u001b[39m, cycle)\n\u001b[1;32m    408\u001b[0m                 \u001b[38;5;28;01mif\u001b[39;00m \u001b[38;5;28mcls\u001b[39m \u001b[38;5;129;01mis\u001b[39;00m \u001b[38;5;129;01mnot\u001b[39;00m \u001b[38;5;28mobject\u001b[39m \\\n\u001b[1;32m    409\u001b[0m                         \u001b[38;5;129;01mand\u001b[39;00m callable(\u001b[38;5;28mcls\u001b[39m\u001b[38;5;241m.\u001b[39m\u001b[38;5;18m__dict__\u001b[39m\u001b[38;5;241m.\u001b[39mget(\u001b[38;5;124m'\u001b[39m\u001b[38;5;124m__repr__\u001b[39m\u001b[38;5;124m'\u001b[39m)):\n\u001b[0;32m--> 410\u001b[0m                     \u001b[38;5;28;01mreturn\u001b[39;00m \u001b[43m_repr_pprint\u001b[49m\u001b[43m(\u001b[49m\u001b[43mobj\u001b[49m\u001b[43m,\u001b[49m\u001b[43m \u001b[49m\u001b[38;5;28;43mself\u001b[39;49m\u001b[43m,\u001b[49m\u001b[43m \u001b[49m\u001b[43mcycle\u001b[49m\u001b[43m)\u001b[49m\n\u001b[1;32m    412\u001b[0m     \u001b[38;5;28;01mreturn\u001b[39;00m _default_pprint(obj, \u001b[38;5;28mself\u001b[39m, cycle)\n\u001b[1;32m    413\u001b[0m \u001b[38;5;28;01mfinally\u001b[39;00m:\n",
      "File \u001b[0;32m~/.local/lib/python3.8/site-packages/IPython/lib/pretty.py:778\u001b[0m, in \u001b[0;36m_repr_pprint\u001b[0;34m(obj, p, cycle)\u001b[0m\n\u001b[1;32m    776\u001b[0m \u001b[38;5;250m\u001b[39m\u001b[38;5;124;03m\"\"\"A pprint that just redirects to the normal repr function.\"\"\"\u001b[39;00m\n\u001b[1;32m    777\u001b[0m \u001b[38;5;66;03m# Find newlines and replace them with p.break_()\u001b[39;00m\n\u001b[0;32m--> 778\u001b[0m output \u001b[38;5;241m=\u001b[39m \u001b[38;5;28;43mrepr\u001b[39;49m\u001b[43m(\u001b[49m\u001b[43mobj\u001b[49m\u001b[43m)\u001b[49m\n\u001b[1;32m    779\u001b[0m lines \u001b[38;5;241m=\u001b[39m output\u001b[38;5;241m.\u001b[39msplitlines()\n\u001b[1;32m    780\u001b[0m \u001b[38;5;28;01mwith\u001b[39;00m p\u001b[38;5;241m.\u001b[39mgroup():\n",
      "\u001b[0;31mTypeError\u001b[0m: __repr__ returned non-string (type NoneType)"
     ]
    }
   ],
   "source": [
    "tree"
   ]
  },
  {
   "cell_type": "code",
   "execution_count": null,
   "metadata": {},
   "outputs": [],
   "source": []
  },
  {
   "cell_type": "code",
   "execution_count": null,
   "metadata": {},
   "outputs": [],
   "source": []
  },
  {
   "cell_type": "code",
   "execution_count": 561,
   "metadata": {},
   "outputs": [],
   "source": [
    "# formula = r'x \\cup y'\n",
    "# formula = r'x \\cup (y \\cap (z \\cup a))'\n",
    "# formula = r'\\not ((\\not a) \\vee b)'\n",
    "# formula = r'\\not (x \\in y)'\n",
    "formula = r'\\exists x (\\forall y (\\not (y \\in x)))'\n",
    "# formula = '(%s)' % formula\n",
    "\n",
    "tokens = tokenize(formula)\n",
    "tree = parse(tokens)\n",
    "tree = process(tree)"
   ]
  },
  {
   "cell_type": "code",
   "execution_count": null,
   "metadata": {},
   "outputs": [],
   "source": []
  },
  {
   "cell_type": "code",
   "execution_count": null,
   "metadata": {},
   "outputs": [],
   "source": []
  },
  {
   "cell_type": "code",
   "execution_count": null,
   "metadata": {},
   "outputs": [],
   "source": []
  },
  {
   "cell_type": "code",
   "execution_count": null,
   "metadata": {},
   "outputs": [],
   "source": []
  }
 ],
 "metadata": {
  "kernelspec": {
   "display_name": "Python 3 (ipykernel)",
   "language": "python",
   "name": "python3"
  },
  "language_info": {
   "codemirror_mode": {
    "name": "ipython",
    "version": 3
   },
   "file_extension": ".py",
   "mimetype": "text/x-python",
   "name": "python",
   "nbconvert_exporter": "python",
   "pygments_lexer": "ipython3",
   "version": "3.8.10"
  }
 },
 "nbformat": 4,
 "nbformat_minor": 4
}

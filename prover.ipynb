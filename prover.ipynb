{
 "cells": [
  {
   "cell_type": "code",
   "execution_count": 1,
   "metadata": {},
   "outputs": [],
   "source": [
    "import string\n",
    "import matplotlib.pyplot as plt"
   ]
  },
  {
   "cell_type": "code",
   "execution_count": 46,
   "metadata": {},
   "outputs": [],
   "source": [
    "TOKENS = [\n",
    "    ('LPAREN', '('),\n",
    "    ('RPAREN', ')'),\n",
    "    ('UNION', r'\\cup'),\n",
    "    ('INTERSECTION', r'\\cap'),\n",
    "    ('AND', r'\\wedge'),\n",
    "    ('OR', r'\\vee'),\n",
    "    ('NOT', r'\\not'),\n",
    "    ('IMPLIES', r'\\implies'),\n",
    "    ('CONTAINS', r'\\in'),\n",
    "    ('EXISTS', r'\\exists'),\n",
    "    ('FORALL', r'\\forall'),\n",
    "    ('SUBSET', '\\subset'),\n",
    "    ###################\n",
    "    ('FORALL', '∀'),\n",
    "    ('EXISTS', '∃'),\n",
    "    ('NOT', '¬'),\n",
    "    ('CONTAINS', '∈'),\n",
    "    ('AND', '∧'),\n",
    "    ('IMPLIES', '⇒'),\n",
    "]\n",
    "\n",
    "def tokenize(formula):\n",
    "    formula = '(%s)' % formula\n",
    "    def helper():\n",
    "        i = 0\n",
    "        while i < len(formula):\n",
    "            if formula[i] == ' ':\n",
    "                i += 1\n",
    "                continue\n",
    "            for t, v in TOKENS:\n",
    "                if formula[i:i+len(v)] == v:\n",
    "                    yield (t, None)\n",
    "                    i += len(v)\n",
    "                    break\n",
    "            else:\n",
    "                assert formula[i] in string.ascii_lowercase, (i, formula[i])\n",
    "                yield ('VARIABLE', formula[i])\n",
    "                i += 1\n",
    "    return list(helper())"
   ]
  },
  {
   "cell_type": "code",
   "execution_count": 56,
   "metadata": {},
   "outputs": [],
   "source": [
    "BINOPS = ['OR', 'AND', 'IMPLIES', 'CONTAINS', 'SUBSET']\n",
    "QUANTS = ['FORALL', 'EXISTS']\n",
    "PRINT_SYMS = {\n",
    "    'OR': '∨',\n",
    "    'AND': '∧',\n",
    "    'IMPLIES': '⇒',\n",
    "    'FORALL': '∀',\n",
    "    'EXISTS': '∃',\n",
    "    'CONTAINS': '∈',\n",
    "    'SUBSET': '⊂',\n",
    "    'NOT': '¬',\n",
    "}\n",
    "\n",
    "class ASTNode:\n",
    "    def __init__(self, node_type, node_value):\n",
    "        self.t = node_type\n",
    "        self.v = node_value\n",
    "\n",
    "    def add_child(self, node):\n",
    "        self.v.append(node)\n",
    "    \n",
    "    def __repr__(self):\n",
    "        if isinstance(self.v, list):\n",
    "            if self.t in BINOPS:\n",
    "                return '(%s %s %s)' % (self.v[0], PRINT_SYMS[self.t], self.v[1])\n",
    "            if self.t in QUANTS:\n",
    "                return '%s%s(%s)' % (PRINT_SYMS[self.t], self.v[0], self.v[1])\n",
    "            if self.t == 'NOT':\n",
    "                return '%s(%s)' % (PRINT_SYMS[self.t], self.v[0])\n",
    "            else:\n",
    "                return '%s(%s)' % (self.t, ' '.join(str(n) for n in self.v))\n",
    "        else:\n",
    "            return str(self.v if self.t == 'VARIABLE' else self.t)\n",
    "\n",
    "def parse(tokens):\n",
    "    def parse_expression(index):\n",
    "        if tokens[index][0] == 'LPAREN':\n",
    "            index += 1\n",
    "            node = ASTNode('GROUP', [])\n",
    "            while tokens[index][0] != 'RPAREN':\n",
    "                child_node, index = parse_expression(index)\n",
    "                node.add_child(child_node)\n",
    "            return node, index + 1  # Skip RPAREN\n",
    "        else:\n",
    "            return ASTNode(*tokens[index]), index+1\n",
    "\n",
    "    ast_root, _ = parse_expression(0)\n",
    "    return ast_root"
   ]
  },
  {
   "cell_type": "code",
   "execution_count": 57,
   "metadata": {},
   "outputs": [],
   "source": [
    "def transform_noop(node):\n",
    "    if not isinstance(node.v, list):\n",
    "        return node\n",
    "    children = node.v = [transform_noop(n) for n in node.v]\n",
    "    return node\n",
    "\n",
    "def eliminate_unary_groups(node):\n",
    "    if not isinstance(node.v, list):\n",
    "        return node\n",
    "    children = node.v = [eliminate_unary_groups(n) for n in node.v]\n",
    "    if node.t == 'GROUP':\n",
    "        if children[0].t == 'GROUP' and len(children) == 1:\n",
    "            node.t = children[0].t\n",
    "            node.v = children[0].v\n",
    "    return node\n",
    "    \n",
    "def extract_quantifiers(node):\n",
    "    if not isinstance(node.v, list):\n",
    "        return node\n",
    "    children = node.v = [extract_quantifiers(n) for n in node.v]\n",
    "    if node.t == 'GROUP':\n",
    "        if children[0].t in ['FORALL', 'EXISTS'] and not children[0].v:\n",
    "            assert children[1].t == 'VARIABLE', children\n",
    "            assert len(children) == 3\n",
    "            node.t = children[0].t\n",
    "            node.v = [children[1], children[2]]\n",
    "    return node\n",
    "\n",
    "def extract_binops(node):\n",
    "    def helper(node):\n",
    "        if not isinstance(node.v, list):\n",
    "            return node\n",
    "        children = node.v = [helper(n) for n in node.v]\n",
    "        if node.t == 'GROUP':\n",
    "            if children[1].t in BINOPS and not children[1].v:\n",
    "                assert len(children) == 3\n",
    "                node.t = children[1].t\n",
    "                node.v = [children[0], children[2]]\n",
    "        return node\n",
    "    return helper(node)\n",
    "\n",
    "def extract_not(node):\n",
    "    def helper(node):\n",
    "        if not isinstance(node.v, list):\n",
    "            return node\n",
    "        children = node.v = [helper(n) for n in node.v]\n",
    "        if node.t == 'GROUP':\n",
    "            if children[0].t == 'NOT' and not children[0].v:\n",
    "                assert len(children) == 2, children\n",
    "                node.t = children[0].t\n",
    "                node.v = [children[1]]\n",
    "        return node\n",
    "    return helper(node)"
   ]
  },
  {
   "cell_type": "code",
   "execution_count": 58,
   "metadata": {},
   "outputs": [],
   "source": [
    "def tag_logic(node):\n",
    "    def helper(node):\n",
    "        if not isinstance(node.v, list):\n",
    "            assert node.t == 'VARIABLE', node\n",
    "            node.is_logic = False\n",
    "            return node\n",
    "        for n in node.v:\n",
    "            helper(n)\n",
    "        if node.t in ['NOT', 'AND', 'OR', 'IMPLIES']:\n",
    "            assert all(n.is_logic for n in node.v)\n",
    "            node.is_logic = True\n",
    "        elif node.t in ['EXISTS', 'FORALL']:\n",
    "            assert node.v[1].is_logic # we already know v[0] is VARIABLE\n",
    "            node.is_logic = True\n",
    "        elif node.t == 'VARIABLE':\n",
    "            node.is_logic = False\n",
    "        elif node.t in ['CONTAINS', 'SUBSET']:\n",
    "            assert all(n.t == 'VARIABLE' for n in node.v)\n",
    "            node.is_logic = True\n",
    "        else:\n",
    "            assert False\n",
    "            \n",
    "    return helper(node)"
   ]
  },
  {
   "cell_type": "code",
   "execution_count": 59,
   "metadata": {},
   "outputs": [],
   "source": [
    "def process(tree):\n",
    "    tree = eliminate_unary_groups(tree)\n",
    "    tree = extract_quantifiers(tree)\n",
    "    tree = extract_binops(tree)\n",
    "    tree = extract_not(tree)\n",
    "    tag_logic(tree)\n",
    "    return tree"
   ]
  },
  {
   "cell_type": "code",
   "execution_count": 60,
   "metadata": {},
   "outputs": [],
   "source": [
    "def compile_subset(node):\n",
    "    def helper(node):\n",
    "        if not isinstance(node.v, list):\n",
    "            return node\n",
    "        children = node.v = [helper(n) for n in node.v]\n",
    "        if node.t == 'SUBSET':\n",
    "            a, b = children\n",
    "            imp = ASTNode('IMPLIES', [ASTNode('CONTAINS', [ASTNode('VARIABLE', 'z'), a]),\n",
    "                                            ASTNode('CONTAINS', [ASTNode('VARIABLE', 'z'), b])])\n",
    "            node = ASTNode('FORALL', [ASTNode('VARIABLE', 'z'), imp])\n",
    "        return node\n",
    "    return helper(node)\n",
    "\n",
    "def compile_logic(node):\n",
    "    def helper(node):\n",
    "        if not isinstance(node.v, list):\n",
    "            return node\n",
    "        children = node.v = [helper(n) for n in node.v]\n",
    "        if node.t == 'OR':\n",
    "            a, b = children\n",
    "            node = ASTNode('NOT', [ASTNode('AND', [ASTNode('NOT', [a]), ASTNode('NOT', [b])])])\n",
    "        if node.t == 'IMPLIES':\n",
    "            a, b = children\n",
    "            node = ASTNode('NOT', [ASTNode('AND', [a, ASTNode('NOT', [b])])])\n",
    "        return node\n",
    "    return helper(node)\n",
    "\n",
    "def compile_exists(node):\n",
    "    def helper(node):\n",
    "        if not isinstance(node.v, list):\n",
    "            return node\n",
    "        children = node.v = [helper(n) for n in node.v]\n",
    "        if node.t == 'EXISTS':\n",
    "            x, phi = children\n",
    "            node = ASTNode('NOT', [ASTNode('FORALL', [x, ASTNode('NOT', [phi])])])\n",
    "        return node\n",
    "    return helper(node)\n",
    "\n",
    "def compile_ast(tree):\n",
    "    tree = compile_subset(tree)\n",
    "    tree = compile_logic(tree)\n",
    "    tree = compile_exists(tree)\n",
    "    return tree"
   ]
  },
  {
   "cell_type": "code",
   "execution_count": 82,
   "metadata": {},
   "outputs": [],
   "source": [
    "# Axiom of the empty set\n",
    "# formula = r'\\exists x (\\forall y (\\not (y \\in x)))'\n",
    "\n",
    "# Theorem: every set contains the empty set\n",
    "formula = r'\\forall x ((\\forall y (\\not (y \\in x))) \\implies (\\forall a (x \\subset a)))'\n",
    "# formula = r'∀x¬(∀y¬(y ∈ x) ∧ ¬∀a∀z¬((z ∈ x) ∧ ¬(z ∈ a)))'\n",
    "# formula = '∀x(∀y¬(y ∈ x) ⇒ ∀a(x \\in a))'\n",
    "# formula = '∀x((∀y(¬((y ∈ x))) ⇒ ∀a((x \\in a))))'\n",
    "\n",
    "# formula = r'(a \\in b) \\vee (b \\in a)'\n",
    "\n",
    "tokens = tokenize(formula)\n",
    "tree = parse(tokens)\n",
    "# tree = process(tree)\n",
    "# print(tree)\n",
    "# tree = compile_ast(tree)\n",
    "# print(tree)"
   ]
  },
  {
   "cell_type": "code",
   "execution_count": 83,
   "metadata": {},
   "outputs": [
    {
     "data": {
      "text/plain": [
       "GROUP(FORALL x GROUP(GROUP(FORALL y GROUP(NOT GROUP(y CONTAINS x))) IMPLIES GROUP(FORALL a GROUP(x SUBSET a))))"
      ]
     },
     "execution_count": 83,
     "metadata": {},
     "output_type": "execute_result"
    }
   ],
   "source": [
    "tree"
   ]
  },
  {
   "cell_type": "code",
   "execution_count": 84,
   "metadata": {},
   "outputs": [
    {
     "data": {
      "text/plain": [
       "[FORALL, y, GROUP(NOT GROUP(y CONTAINS x))]"
      ]
     },
     "execution_count": 84,
     "metadata": {},
     "output_type": "execute_result"
    }
   ],
   "source": [
    "tree.v[2].v[0].v"
   ]
  },
  {
   "cell_type": "code",
   "execution_count": null,
   "metadata": {},
   "outputs": [],
   "source": []
  },
  {
   "cell_type": "code",
   "execution_count": null,
   "metadata": {},
   "outputs": [],
   "source": []
  },
  {
   "cell_type": "code",
   "execution_count": null,
   "metadata": {},
   "outputs": [],
   "source": []
  },
  {
   "cell_type": "code",
   "execution_count": null,
   "metadata": {},
   "outputs": [],
   "source": []
  },
  {
   "cell_type": "code",
   "execution_count": null,
   "metadata": {},
   "outputs": [],
   "source": []
  },
  {
   "cell_type": "code",
   "execution_count": null,
   "metadata": {},
   "outputs": [],
   "source": []
  }
 ],
 "metadata": {
  "kernelspec": {
   "display_name": "Python 3 (ipykernel)",
   "language": "python",
   "name": "python3"
  },
  "language_info": {
   "codemirror_mode": {
    "name": "ipython",
    "version": 3
   },
   "file_extension": ".py",
   "mimetype": "text/x-python",
   "name": "python",
   "nbconvert_exporter": "python",
   "pygments_lexer": "ipython3",
   "version": "3.8.10"
  }
 },
 "nbformat": 4,
 "nbformat_minor": 4
}
